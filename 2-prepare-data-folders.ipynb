{
 "cells": [
  {
   "cell_type": "code",
   "execution_count": 1,
   "metadata": {
    "collapsed": true
   },
   "outputs": [],
   "source": [
    "import numpy as np\n",
    "import os\n",
    "import shutil\n",
    "import glob"
   ]
  },
  {
   "cell_type": "code",
   "execution_count": 2,
   "metadata": {
    "collapsed": true
   },
   "outputs": [],
   "source": [
    "pos_dir = './plastrial/extracted/positive/'\n",
    "neg_dir = './plastrial/extracted/negative/'\n",
    "to_dir = './plastrial/data/'\n",
    "classes = ['positive', 'negative']"
   ]
  },
  {
   "cell_type": "code",
   "execution_count": 3,
   "metadata": {
    "collapsed": true
   },
   "outputs": [],
   "source": [
    "train = os.path.join(to_dir, \"train\")\n",
    "validation = os.path.join(to_dir, \"validation\")\n",
    "test = os.path.join(to_dir, \"test\")"
   ]
  },
  {
   "cell_type": "code",
   "execution_count": 4,
   "metadata": {
    "collapsed": true
   },
   "outputs": [],
   "source": [
    "for directory in [train, validation, test]:\n",
    "    for cls in classes:\n",
    "        if not os.path.exists(directory):\n",
    "            os.makedirs(directory)\n",
    "        clspath = os.path.join(directory, cls)\n",
    "        if not os.path.exists(clspath):\n",
    "            os.makedirs(clspath)"
   ]
  },
  {
   "cell_type": "code",
   "execution_count": 5,
   "metadata": {
    "collapsed": true
   },
   "outputs": [],
   "source": [
    "posfiles = glob.glob(pos_dir + \"*.jpg\")\n",
    "negfiles = glob.glob(neg_dir + \"*.jpg\")\n",
    "np.random.shuffle(posfiles)\n",
    "np.random.shuffle(negfiles)\n",
    "num_pos, num_neg = len(posfiles), len(negfiles)\n",
    "trainingexamplesidx, validationexamplesidx = 0.6, 0.2\n",
    "postrainexamples = posfiles[:int(num_pos*0.6)]\n",
    "posvalexamples = posfiles[int(num_pos*0.6):int(num_pos*0.8)]\n",
    "postestexamples = posfiles[int(num_pos*0.8):]\n",
    "negtrainexamples = negfiles[:int(num_neg*0.6)]\n",
    "negvalexamples = negfiles[int(num_neg*0.6):int(num_neg*0.8)]\n",
    "negtestexamples = negfiles[int(num_neg*0.8):]"
   ]
  },
  {
   "cell_type": "code",
   "execution_count": 6,
   "metadata": {},
   "outputs": [
    {
     "name": "stdout",
     "output_type": "stream",
     "text": [
      "Length of pos = 177, neg = 246\n",
      "Length of postrainexamples = 106, posvalexamples = 35, postestexamples = 36\n",
      "Length of megtrainexamples = 147, negvalexamples = 49, negestexamples = 50\n"
     ]
    }
   ],
   "source": [
    "print(\"Length of pos = %d, neg = %d\"%(num_pos, num_neg))\n",
    "print(\"Length of postrainexamples = %d, posvalexamples = %d, postestexamples = %d\"%(len(postrainexamples), len(posvalexamples), len(postestexamples)))\n",
    "print(\"Length of megtrainexamples = %d, negvalexamples = %d, negestexamples = %d\"%(len(negtrainexamples), len(negvalexamples), len(negtestexamples)))"
   ]
  },
  {
   "cell_type": "code",
   "execution_count": 7,
   "metadata": {
    "collapsed": true
   },
   "outputs": [],
   "source": [
    "for f in postrainexamples:\n",
    "    shutil.copy(f, os.path.join(train,\"positive\"))\n",
    "\n",
    "for f in posvalexamples:\n",
    "    shutil.copy(f, os.path.join(validation, \"positive\"))\n",
    "    \n",
    "for f in postestexamples:\n",
    "    shutil.copy(f, os.path.join(test, 'positive'))\n",
    "    \n",
    "for f in negtrainexamples:\n",
    "    shutil.copy(f, os.path.join(train, \"negative\"))\n",
    "    \n",
    "for f in negvalexamples:\n",
    "    shutil.copy(f, os.path.join(validation, \"negative\"))\n",
    "    \n",
    "for f in negtestexamples:\n",
    "    shutil.copy(f, os.path.join(test, \"negative\"))"
   ]
  },
  {
   "cell_type": "code",
   "execution_count": null,
   "metadata": {
    "collapsed": true
   },
   "outputs": [],
   "source": []
  }
 ],
 "metadata": {
  "kernelspec": {
   "display_name": "Python 3",
   "language": "python",
   "name": "python3"
  },
  "language_info": {
   "codemirror_mode": {
    "name": "ipython",
    "version": 3
   },
   "file_extension": ".py",
   "mimetype": "text/x-python",
   "name": "python",
   "nbconvert_exporter": "python",
   "pygments_lexer": "ipython3",
   "version": "3.6.6"
  }
 },
 "nbformat": 4,
 "nbformat_minor": 2
}
