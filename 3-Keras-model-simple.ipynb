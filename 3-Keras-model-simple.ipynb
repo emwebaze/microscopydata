{
 "cells": [
  {
   "cell_type": "code",
   "execution_count": 14,
   "metadata": {},
   "outputs": [],
   "source": [
    "import tensorflow as tf\n",
    "from tensorflow.keras import layers\n",
    "from tensorflow.keras import models\n",
    "from tensorflow.keras.layers import Conv2D, Activation, MaxPooling2D, Flatten, Dense, Dropout\n",
    "import numpy as np\n",
    "from tensorflow.keras.preprocessing.image import ImageDataGenerator"
   ]
  },
  {
   "cell_type": "code",
   "execution_count": 2,
   "metadata": {
    "collapsed": true
   },
   "outputs": [],
   "source": [
    "import os"
   ]
  },
  {
   "cell_type": "code",
   "execution_count": 3,
   "metadata": {
    "collapsed": true
   },
   "outputs": [],
   "source": [
    "base_dir = './plastrial/data/'\n",
    "traindir = os.path.join(base_dir, \"train\")\n",
    "validationdir = os.path.join(base_dir, \"validation\")\n",
    "testdir = os.path.join(base_dir, \"test\")\n",
    "patch_size=50"
   ]
  },
  {
   "cell_type": "code",
   "execution_count": 4,
   "metadata": {
    "collapsed": true
   },
   "outputs": [],
   "source": [
    "traindatagen = ImageDataGenerator(rescale=1/255.)\n",
    "validationdatagen = ImageDataGenerator(rescale=1/255.)\n",
    "testdatagen = ImageDataGenerator(rescale=1/255.)"
   ]
  },
  {
   "cell_type": "code",
   "execution_count": 5,
   "metadata": {},
   "outputs": [
    {
     "name": "stdout",
     "output_type": "stream",
     "text": [
      "Found 253 images belonging to 2 classes.\n",
      "Found 84 images belonging to 2 classes.\n",
      "Found 86 images belonging to 2 classes.\n"
     ]
    }
   ],
   "source": [
    "traingen = traindatagen.flow_from_directory(\n",
    "                                directory=traindir,\n",
    "                                target_size=(patch_size,patch_size),\n",
    "                                batch_size = 1,\n",
    "                                class_mode='binary')\n",
    "\n",
    "validationgen = validationdatagen.flow_from_directory(\n",
    "                                directory=validationdir,\n",
    "                                target_size=(patch_size,patch_size),\n",
    "                                batch_size = 1,\n",
    "                                class_mode='binary')\n",
    "\n",
    "testdatagen = testdatagen.flow_from_directory(\n",
    "                                directory=testdir,\n",
    "                                target_size=(patch_size,patch_size),\n",
    "                                batch_size = 1,\n",
    "                                class_mode='binary')"
   ]
  },
  {
   "cell_type": "code",
   "execution_count": 6,
   "metadata": {
    "collapsed": true
   },
   "outputs": [],
   "source": [
    "#Simple VGG like model\n",
    "model = models.Sequential()\n",
    "model.add(Conv2D(32, (5, 5), input_shape=(patch_size, patch_size, 3)))\n",
    "model.add(Activation('relu'))\n",
    "model.add(MaxPooling2D(pool_size=(2, 2)))\n",
    "\n",
    "model.add(Conv2D(32, (5, 5), padding='same'))\n",
    "model.add(Activation('relu'))\n",
    "model.add(MaxPooling2D(pool_size=(2, 2)))\n",
    "\n",
    "model.add(Conv2D(64, (5, 5), padding='same'))\n",
    "model.add(Activation('relu'))\n",
    "model.add(MaxPooling2D(pool_size=(2, 2)))\n",
    "\n",
    "model.add(Conv2D(128, (3, 3), padding='same'))\n",
    "model.add(Activation('relu'))\n",
    "model.add(MaxPooling2D(pool_size=(2, 2)))\n",
    "\n",
    "model.add(Flatten())  # this converts our 3D feature maps to 1D feature vectors\n",
    "model.add(Dense(128))\n",
    "model.add(Activation('relu'))\n",
    "model.add(Dropout(0.5))\n",
    "model.add(Dense(64))\n",
    "model.add(Activation('relu'))\n",
    "model.add(Dropout(0.5))\n",
    "model.add(Dense(1))\n",
    "model.add(Activation('sigmoid'))"
   ]
  },
  {
   "cell_type": "code",
   "execution_count": 7,
   "metadata": {
    "collapsed": true
   },
   "outputs": [],
   "source": [
    "from tensorflow.keras.optimizers import RMSprop"
   ]
  },
  {
   "cell_type": "code",
   "execution_count": 8,
   "metadata": {
    "collapsed": true
   },
   "outputs": [],
   "source": [
    "model.compile(optimizer=RMSprop(learning_rate=0.001), loss='binary_crossentropy', metrics=['accuracy'])"
   ]
  },
  {
   "cell_type": "code",
   "execution_count": 12,
   "metadata": {},
   "outputs": [
    {
     "name": "stdout",
     "output_type": "stream",
     "text": [
      "Epoch 1/20\n",
      "253/253 [==============================] - 2s 8ms/step - loss: 0.6877 - accuracy: 0.5810 - val_loss: 0.6792 - val_accuracy: 0.5833\n",
      "Epoch 2/20\n",
      "253/253 [==============================] - 2s 7ms/step - loss: 0.7040 - accuracy: 0.5810 - val_loss: 0.6795 - val_accuracy: 0.5833\n",
      "Epoch 3/20\n",
      "253/253 [==============================] - 2s 8ms/step - loss: 0.6807 - accuracy: 0.5810 - val_loss: 0.6792 - val_accuracy: 0.5833\n",
      "Epoch 4/20\n",
      "253/253 [==============================] - 2s 8ms/step - loss: 0.7155 - accuracy: 0.5850 - val_loss: 0.6802 - val_accuracy: 0.5833\n",
      "Epoch 5/20\n",
      "253/253 [==============================] - 2s 9ms/step - loss: 0.7003 - accuracy: 0.5850 - val_loss: 0.6786 - val_accuracy: 0.5833\n",
      "Epoch 6/20\n",
      "253/253 [==============================] - 2s 8ms/step - loss: 0.6985 - accuracy: 0.5810 - val_loss: 0.6796 - val_accuracy: 0.5833\n",
      "Epoch 7/20\n",
      "253/253 [==============================] - 2s 8ms/step - loss: 0.6866 - accuracy: 0.5771 - val_loss: 0.6795 - val_accuracy: 0.5833\n",
      "Epoch 8/20\n",
      "253/253 [==============================] - 2s 8ms/step - loss: 0.6882 - accuracy: 0.5850 - val_loss: 0.6813 - val_accuracy: 0.5833\n",
      "Epoch 9/20\n",
      "253/253 [==============================] - 2s 8ms/step - loss: 0.6941 - accuracy: 0.5810 - val_loss: 0.6794 - val_accuracy: 0.5833\n",
      "Epoch 10/20\n",
      "253/253 [==============================] - 2s 9ms/step - loss: 0.6853 - accuracy: 0.5810 - val_loss: 0.6792 - val_accuracy: 0.5833\n",
      "Epoch 11/20\n",
      "253/253 [==============================] - 2s 8ms/step - loss: 0.6827 - accuracy: 0.5771 - val_loss: 0.6796 - val_accuracy: 0.5833\n",
      "Epoch 12/20\n",
      "253/253 [==============================] - 2s 8ms/step - loss: 0.6907 - accuracy: 0.5889 - val_loss: 0.6794 - val_accuracy: 0.5833\n",
      "Epoch 13/20\n",
      "253/253 [==============================] - 2s 10ms/step - loss: 0.6777 - accuracy: 0.5810 - val_loss: 0.6806 - val_accuracy: 0.5833\n",
      "Epoch 14/20\n",
      "253/253 [==============================] - 2s 9ms/step - loss: 0.6924 - accuracy: 0.5889 - val_loss: 0.6793 - val_accuracy: 0.5833\n",
      "Epoch 15/20\n",
      "253/253 [==============================] - 2s 8ms/step - loss: 0.6839 - accuracy: 0.5850 - val_loss: 0.6792 - val_accuracy: 0.5833\n",
      "Epoch 16/20\n",
      "253/253 [==============================] - 2s 8ms/step - loss: 0.6929 - accuracy: 0.5731 - val_loss: 0.6792 - val_accuracy: 0.5833\n",
      "Epoch 17/20\n",
      "253/253 [==============================] - 2s 9ms/step - loss: 0.6908 - accuracy: 0.5731 - val_loss: 0.6793 - val_accuracy: 0.5833\n",
      "Epoch 18/20\n",
      "253/253 [==============================] - 2s 9ms/step - loss: 0.6879 - accuracy: 0.5929 - val_loss: 0.6797 - val_accuracy: 0.5833\n",
      "Epoch 19/20\n",
      "253/253 [==============================] - 2s 8ms/step - loss: 0.6797 - accuracy: 0.5810 - val_loss: 0.6804 - val_accuracy: 0.5833\n",
      "Epoch 20/20\n",
      "253/253 [==============================] - 2s 8ms/step - loss: 0.6844 - accuracy: 0.5850 - val_loss: 0.6792 - val_accuracy: 0.5833\n"
     ]
    }
   ],
   "source": [
    "history = model.fit_generator(\n",
    "                traingen,\n",
    "                epochs=20,\n",
    "                validation_data = validationgen)"
   ]
  },
  {
   "cell_type": "code",
   "execution_count": 13,
   "metadata": {},
   "outputs": [
    {
     "data": {
      "text/plain": [
       "[0.6799345141233399, 0.5813953]"
      ]
     },
     "execution_count": 13,
     "metadata": {},
     "output_type": "execute_result"
    }
   ],
   "source": [
    "model.evaluate_generator(testdatagen)"
   ]
  },
  {
   "cell_type": "code",
   "execution_count": null,
   "metadata": {
    "collapsed": true
   },
   "outputs": [],
   "source": []
  }
 ],
 "metadata": {
  "kernelspec": {
   "display_name": "Python 3",
   "language": "python",
   "name": "python3"
  },
  "language_info": {
   "codemirror_mode": {
    "name": "ipython",
    "version": 3
   },
   "file_extension": ".py",
   "mimetype": "text/x-python",
   "name": "python",
   "nbconvert_exporter": "python",
   "pygments_lexer": "ipython3",
   "version": "3.6.6"
  }
 },
 "nbformat": 4,
 "nbformat_minor": 2
}
